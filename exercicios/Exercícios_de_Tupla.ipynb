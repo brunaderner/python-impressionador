{
  "cells": [
    {
      "cell_type": "markdown",
      "metadata": {
        "id": "hLqIicJuIUUx"
      },
      "source": [
        "# Exercícios\n",
        "\n",
        "São exercícios bem parecidos com os que fizemos com listas. Mas na tupla, podemos não só trabalhar com índices, mas fazer o \"unpacking\" das tuplas, o que pode facilitar nossos códigos.\n",
        "\n",
        "## 1. Análise de Vendas\n",
        "\n",
        "Nesse exercício vamos fazer uma \"análise simples\" de atingimento de Meta.\n",
        "\n",
        "Temos uma lista com os vendedores e os valores de vendas e queremos identificar (printar) quais os vendedores que bateram a meta e qual foi o valor que eles venderam."
      ]
    },
    {
      "cell_type": "code",
      "execution_count": 1,
      "metadata": {
        "id": "yUcPzYxcIUU8"
      },
      "outputs": [],
      "source": [
        "meta = 10000\n",
        "vendas = [\n",
        "    ('João', 15000),\n",
        "    ('Julia', 27000),\n",
        "    ('Marcus', 9900),\n",
        "    ('Maria', 3750),\n",
        "    ('Ana', 10300),\n",
        "    ('Alon', 7870),\n",
        "]"
      ]
    },
    {
      "cell_type": "code",
      "source": [
        "bateu_meta = []\n",
        "nome_fun = []\n",
        "for i in vendas:\n",
        "  nome, total_vendas = i\n",
        "  if total_vendas <= meta:\n",
        "    bateu_meta.append(total_vendas)\n",
        "    nome_fun.append(nome)\n",
        "\n",
        "for p in range(len(nome_fun)):\n",
        "  print(f'O funcionário {nome_fun[p]}, bateu a meta, vendeu = {bateu_meta[p]}')\n"
      ],
      "metadata": {
        "colab": {
          "base_uri": "https://localhost:8080/"
        },
        "id": "esT4izNUIavl",
        "outputId": "748b9fb1-9c1c-4405-adc6-c8db09a1361f"
      },
      "execution_count": 12,
      "outputs": [
        {
          "output_type": "stream",
          "name": "stdout",
          "text": [
            "O funcionário Marcus, bateu a meta, vendeu = 9900\n",
            "O funcionário Maria, bateu a meta, vendeu = 3750\n",
            "O funcionário Alon, bateu a meta, vendeu = 7870\n"
          ]
        }
      ]
    },
    {
      "cell_type": "markdown",
      "metadata": {
        "id": "MpblfPz5IUVA"
      },
      "source": [
        "## 2. Comparação com Ano Anterior\n",
        "\n",
        "Digamos que você está analisando as vendas de produtos de um ecommerce e quer identificar quais produtos tiveram no ano de 2020 mais vendas do que no ano de 2019, para reportar isso para a diretoria.\n",
        "\n",
        "Sua resposta pode ser um print de cada produto, qual foi a venda de 2019, a venda de 2020 e o % de crescimento de 2020 para 2019.\n",
        "\n",
        "Lembrando, para calcular o % de crescimento de um produto de um ano para o outro, podemos fazer: (vendas_produto2020/vendas_produto2019 - 1)\n",
        "\n",
        "A lógica da tupla é: (produto, vendas2019, vendas2020)"
      ]
    },
    {
      "cell_type": "code",
      "execution_count": 22,
      "metadata": {
        "colab": {
          "base_uri": "https://localhost:8080/"
        },
        "id": "1Tm6DMtqIUVC",
        "outputId": "6f7bd327-bcb5-4c69-d8e8-23c2075f3fac"
      },
      "outputs": [
        {
          "output_type": "stream",
          "name": "stdout",
          "text": [
            "O produto iphone vendeu R$558147 e R$951642, com uma variação de 0.71\n",
            "O produto galaxy vendeu R$712350 e R$244295, com uma variação de -0.66\n",
            "O produto ipad vendeu R$573823 e R$26964, com uma variação de -0.95\n",
            "O produto tv vendeu R$405252 e R$787604, com uma variação de 0.94\n",
            "O produto máquina de café vendeu R$718654 e R$867660, com uma variação de 0.21\n",
            "O produto kindle vendeu R$531580 e R$78830, com uma variação de -0.85\n",
            "O produto geladeira vendeu R$973139 e R$710331, com uma variação de -0.27\n",
            "O produto adega vendeu R$892292 e R$646016, com uma variação de -0.28\n",
            "O produto notebook dell vendeu R$422760 e R$694913, com uma variação de 0.64\n",
            "O produto notebook hp vendeu R$154753 e R$539704, com uma variação de 2.49\n",
            "O produto notebook asus vendeu R$887061 e R$324831, com uma variação de -0.63\n",
            "O produto microsoft surface vendeu R$438508 e R$667179, com uma variação de 0.52\n",
            "O produto webcam vendeu R$237467 e R$295633, com uma variação de 0.24\n",
            "O produto caixa de som vendeu R$489705 e R$725316, com uma variação de 0.48\n",
            "O produto microfone vendeu R$328311 e R$644622, com uma variação de 0.96\n",
            "O produto câmera canon vendeu R$591120 e R$994303, com uma variação de 0.68\n"
          ]
        }
      ],
      "source": [
        "vendas_produtos = [\n",
        "    ('iphone', 558147, 951642),\n",
        "     ('galaxy', 712350, 244295),\n",
        "      ('ipad', 573823, 26964),\n",
        "       ('tv', 405252, 787604),\n",
        "        ('máquina de café', 718654, 867660),\n",
        "         ('kindle', 531580, 78830),\n",
        "          ('geladeira', 973139, 710331),\n",
        "           ('adega', 892292, 646016),\n",
        "            ('notebook dell', 422760, 694913),\n",
        "             ('notebook hp', 154753, 539704),\n",
        "              ('notebook asus', 887061, 324831),\n",
        "               ('microsoft surface', 438508, 667179),\n",
        "                ('webcam', 237467, 295633),\n",
        "                 ('caixa de som', 489705, 725316),\n",
        "                  ('microfone', 328311, 644622),\n",
        "                   ('câmera canon', 591120, 994303)\n",
        "                   ]\n",
        "\n",
        "#seu código aqui\n",
        "\n",
        "for i in vendas_produtos:\n",
        "  nome, venda_2019, venda_2020 = i\n",
        "  crescimento = (venda_2020 / venda_2019) - 1\n",
        "\n",
        "  print(f'O produto {nome} vendeu R${venda_2019} e R${venda_2020}, com uma variação de {crescimento:.2f}')"
      ]
    }
  ],
  "metadata": {
    "kernelspec": {
      "display_name": "Python 3",
      "language": "python",
      "name": "python3"
    },
    "language_info": {
      "codemirror_mode": {
        "name": "ipython",
        "version": 3
      },
      "file_extension": ".py",
      "mimetype": "text/x-python",
      "name": "python",
      "nbconvert_exporter": "python",
      "pygments_lexer": "ipython3",
      "version": "3.8.3"
    },
    "colab": {
      "provenance": []
    }
  },
  "nbformat": 4,
  "nbformat_minor": 0
}